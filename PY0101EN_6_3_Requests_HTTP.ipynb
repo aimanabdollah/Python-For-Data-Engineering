{
  "nbformat": 4,
  "nbformat_minor": 0,
  "metadata": {
    "kernelspec": {
      "display_name": "Python 3",
      "language": "python",
      "name": "python3"
    },
    "language_info": {
      "codemirror_mode": {
        "name": "ipython",
        "version": 3
      },
      "file_extension": ".py",
      "mimetype": "text/x-python",
      "name": "python",
      "nbconvert_exporter": "python",
      "pygments_lexer": "ipython3",
      "version": "3.7.6"
    },
    "colab": {
      "name": "PY0101EN-6-3_Requests_HTTP.ipynb",
      "provenance": [],
      "include_colab_link": true
    }
  },
  "cells": [
    {
      "cell_type": "markdown",
      "metadata": {
        "id": "view-in-github",
        "colab_type": "text"
      },
      "source": [
        "<a href=\"https://colab.research.google.com/github/aimanabdollah/Python-For-Data-Engineering/blob/main/PY0101EN_6_3_Requests_HTTP.ipynb\" target=\"_parent\"><img src=\"https://colab.research.google.com/assets/colab-badge.svg\" alt=\"Open In Colab\"/></a>"
      ]
    },
    {
      "cell_type": "markdown",
      "metadata": {
        "id": "gNaPX2qbWOCL"
      },
      "source": [
        "<a href=\"https://cognitiveclass.ai/?utm_medium=Exinfluencer&utm_source=Exinfluencer&utm_content=000026UJ&utm_term=10006555&utm_id=NA-SkillsNetwork-Channel-SkillsNetworkCoursesIBMDeveloperSkillsNetworkPY0101ENSkillsNetwork19487395-2021-01-01\">\n",
        "    <img src=\"https://s3-api.us-geo.objectstorage.softlayer.net/cf-courses-data/CognitiveClass/PY0101EN/Ad/CCLog.png\" width=\"200\" align=\"center\">\n",
        "</a>\n"
      ]
    },
    {
      "cell_type": "markdown",
      "metadata": {
        "id": "Limqse-VWOCR"
      },
      "source": [
        "<h1> HTTP and Requests</h1>\n",
        "\n",
        "Estimated time needed: **15** minutes\n",
        "\n",
        "## Objectives\n",
        "\n",
        "After completing this lab you will be able to:\n",
        "\n",
        "*   Understand HTTP\n",
        "*   Handle HTTP Requests\n"
      ]
    },
    {
      "cell_type": "markdown",
      "metadata": {
        "id": "JQ8oBlRVWOCS"
      },
      "source": [
        "<h2>Table of Contents</h2>\n",
        "\n",
        "<div class=\"alert alert-block alert-info\" style=\"margin-top: 20px\">\n",
        "    <ul>\n",
        "        <li>\n",
        "            <a href=\"https://#index\">Overview of HTTP </a>\n",
        "            <ul>\n",
        "                <li><a href=\"https://#HTTP\">Uniform Resource Locator:URL</a></li>\n",
        "                 <li><a href=\"https://slice/?utm_medium=Exinfluencer&utm_source=Exinfluencer&utm_content=000026UJ&utm_term=10006555&utm_id=NA-SkillsNetwork-Channel-SkillsNetworkCoursesIBMDeveloperSkillsNetworkPY0101ENSkillsNetwork19487395-2021-01-01\">Request</a></li>\n",
        "                <li><a href=\"https://stride/?utm_medium=Exinfluencer&utm_source=Exinfluencer&utm_content=000026UJ&utm_term=10006555&utm_id=NA-SkillsNetwork-Channel-SkillsNetworkCoursesIBMDeveloperSkillsNetworkPY0101ENSkillsNetwork19487395-2021-01-01\">Response</a></li>\n",
        "            </ul>\n",
        "        </li>\n",
        "        <li>\n",
        "            <a href=\"https://#RP\">Requests in Python  </a>\n",
        "            <ul>\n",
        "                <li><a href=\"https://#get\">Get Request with URL Parameters</a></li>\n",
        "                <li><a href=\"https://#post\">Post Requests </a></li>\n",
        "\n",
        "</ul>\n",
        "\n",
        "</div>\n",
        "\n",
        "<hr>\n"
      ]
    },
    {
      "cell_type": "markdown",
      "metadata": {
        "id": "O7QOVaYmWOCU"
      },
      "source": [
        "<h2 id=\"\">Overview of HTTP </h2>\n"
      ]
    },
    {
      "cell_type": "markdown",
      "metadata": {
        "id": "vojdC9fpWOCU"
      },
      "source": [
        "When you, the **client**, use a web page your browser sends an **HTTP** request to the **server** where the page is hosted. The server tries to find the desired **resource** by default \"<code>index.html</code>\". If your request is successful, the server will send the object to the client in an **HTTP response**. This includes information like the type of the **resource**, the length of the **resource**, and other information.\n",
        "\n",
        "<p>\n",
        "The figure below represents the process. The circle on the left represents the client, the circle on the right represents the Web server. The table under the Web server represents a list of resources stored in the web server. In  this case an <code>HTML</code> file, <code>png</code> image, and <code>txt</code> file .\n",
        "</p>\n",
        "<p>\n",
        "The <b>HTTP</b> protocol allows you to send and receive information through the web including webpages, images, and other web resources. In this lab, we will provide an overview of the Requests library for interacting with the <code>HTTP</code> protocol. \n",
        "</p\n"
      ]
    },
    {
      "cell_type": "markdown",
      "metadata": {
        "id": "QL5L4eDXWOCV"
      },
      "source": [
        "<div class=\"alert alert-block alert-info\" style=\"margin-top: 20px\">\n",
        "         <img src=\"https://cf-courses-data.s3.us.cloud-object-storage.appdomain.cloud/IBMDeveloperSkillsNetwork-PY0101EN-SkillsNetwork/labs/Module%205/images/reqest_basics.png\" width=\"750\" align=\"center\">\n",
        "\n",
        "</div>\n"
      ]
    },
    {
      "cell_type": "markdown",
      "metadata": {
        "id": "8gxlN9JoWOCW"
      },
      "source": [
        "<h2 id=\"URL\">Uniform Resource Locator: URL</h2>\n"
      ]
    },
    {
      "cell_type": "markdown",
      "metadata": {
        "id": "a_DVn0IvWOCX"
      },
      "source": [
        "Uniform resource locator (URL) is the most popular way to find resources on the web.  We can break the URL into three parts.\n",
        "\n",
        "<ul>\n",
        "    <li><b>scheme</b> this is this protocol, for this lab it will always be <code>http://</code>  </li>\n",
        "    <li><b> Internet address or  Base URL </b> this will be used to find the location here are some examples: <code>www.ibm.com</code> and  <code> www.gitlab.com </code> </li>\n",
        "    <li><b>route</b> location on the web server for example: <code>/images/IDSNlogo.png</code> </li>\n",
        "</ul>\n"
      ]
    },
    {
      "cell_type": "markdown",
      "metadata": {
        "id": "ELN_20mKWOCY"
      },
      "source": [
        "You may also hear the term Uniform Resource Identifier (URI), URL are actually a subset of URIs. Another popular term is endpoint, this is the URL of an operation provided by a Web server.\n"
      ]
    },
    {
      "cell_type": "markdown",
      "metadata": {
        "id": "Feb7HjRJWOCZ"
      },
      "source": [
        "<h2 id=\"RE\">Request </h2>\n"
      ]
    },
    {
      "cell_type": "markdown",
      "metadata": {
        "id": "OCdXQo0TWOCa"
      },
      "source": [
        "The process can be broken into the <b>request</b> and <b>response </b> process.  The request using the get method is partially illustrated below. In the start line we have the <code>GET</code> method, this is an <code>HTTP</code> method. Also the location of the resource  <code>/index.html</code> and the <code>HTTP</code> version. The Request header passes additional information with an <code>HTTP</code> request:\n"
      ]
    },
    {
      "cell_type": "markdown",
      "metadata": {
        "id": "J6KgHoJ_WOCa"
      },
      "source": [
        "<div class=\"alert alert-block alert-info\" style=\"margin-top: 20px\">\n",
        "         <img src=\"https://cf-courses-data.s3.us.cloud-object-storage.appdomain.cloud/IBMDeveloperSkillsNetwork-PY0101EN-SkillsNetwork/labs/Module%205/images/reqest_messege.png\" width=\"400\" align=\"center\">\n",
        "</div>\n"
      ]
    },
    {
      "cell_type": "markdown",
      "metadata": {
        "id": "tRQ_BRbXWOCc"
      },
      "source": [
        "When an <code>HTTP</code> request is made, an <code>HTTP</code> method is sent, this tells the server what action to perform.  A list of several <code>HTTP</code> methods is shown below. We will go over more examples later.\n"
      ]
    },
    {
      "cell_type": "markdown",
      "metadata": {
        "id": "q3YLqFnMWOCc"
      },
      "source": [
        "<div class=\"alert alert-block alert-info\" style=\"margin-top: 20px\">\n",
        "         <img src=\"https://cf-courses-data.s3.us.cloud-object-storage.appdomain.cloud/IBMDeveloperSkillsNetwork-PY0101EN-SkillsNetwork/labs/Module%205/images/http_methods.png\" width=\"400\" align=\"center\">\n",
        "</div>\n"
      ]
    },
    {
      "cell_type": "markdown",
      "metadata": {
        "id": "WaU4uEHoWOCd"
      },
      "source": [
        "<h2 id=\"RES\">Response</h2>\n"
      ]
    },
    {
      "cell_type": "markdown",
      "metadata": {
        "id": "Oy2xS6TbWOCd"
      },
      "source": [
        "The figure below represents the response; the response start line contains the version number <code>HTTP/1.0</code>, a status code (200) meaning success, followed by a descriptive phrase (OK). The response header contains useful information. Finally, we have the response body containing the requested file, an <code> HTML </code> document.  It should be noted that some requests have headers.\n"
      ]
    },
    {
      "cell_type": "markdown",
      "metadata": {
        "id": "-OVqce2NWOCd"
      },
      "source": [
        "<div class=\"alert alert-block alert-info\" style=\"margin-top: 20px\">\n",
        "         <img src=\"https://cf-courses-data.s3.us.cloud-object-storage.appdomain.cloud/IBMDeveloperSkillsNetwork-PY0101EN-SkillsNetwork/labs/Module%205/images/response_message.png\" width=\"400\" align=\"center\">\n",
        "</div>\n"
      ]
    },
    {
      "cell_type": "markdown",
      "metadata": {
        "id": "nihHEIKTWOCe"
      },
      "source": [
        "Some status code examples are shown in the table below, the prefix indicates the class. These are shown in yellow, with actual status codes shown in  white. Check out the following <a href=\"https://developer.mozilla.org/en-US/docs/Web/HTTP/Status?utm_medium=Exinfluencer&utm_source=Exinfluencer&utm_content=000026UJ&utm_term=10006555&utm_id=NA-SkillsNetwork-Channel-SkillsNetworkCoursesIBMDeveloperSkillsNetworkPY0101ENSkillsNetwork19487395-2021-01-01\">link </a> for more descriptions.\n"
      ]
    },
    {
      "cell_type": "markdown",
      "metadata": {
        "id": "sYl-FxelWOCe"
      },
      "source": [
        "<div class=\"alert alert-block alert-info\" style=\"margin-top: 20px\">\n",
        "         <img src=\"https://cf-courses-data.s3.us.cloud-object-storage.appdomain.cloud/IBMDeveloperSkillsNetwork-PY0101EN-SkillsNetwork/labs/Module%205/images/status_code.png\" width=\"300\" align=\"center\">\n",
        "</div>\n"
      ]
    },
    {
      "cell_type": "markdown",
      "metadata": {
        "id": "CfpJPpfeWOCe"
      },
      "source": [
        "<h2 id=\"RP\">Requests in Python</h2>\n"
      ]
    },
    {
      "cell_type": "markdown",
      "metadata": {
        "id": "U6Y0l6d6WOCe"
      },
      "source": [
        "Requests is a Python Library that allows you to send <code>HTTP/1.1</code> requests easily. We can import the library as follows:\n"
      ]
    },
    {
      "cell_type": "code",
      "metadata": {
        "id": "Q2wTVTkmWOCe"
      },
      "source": [
        "import requests"
      ],
      "execution_count": null,
      "outputs": []
    },
    {
      "cell_type": "markdown",
      "metadata": {
        "id": "j9Q8kbokWOCf"
      },
      "source": [
        "We will also use the following libraries:\n"
      ]
    },
    {
      "cell_type": "code",
      "metadata": {
        "id": "gtF__BhpWOCg"
      },
      "source": [
        "import os \n",
        "from PIL import Image\n",
        "from IPython.display import IFrame"
      ],
      "execution_count": null,
      "outputs": []
    },
    {
      "cell_type": "markdown",
      "metadata": {
        "id": "fitceLKsWOCg"
      },
      "source": [
        "You can make a <code>GET</code> request via the method <code>get</code> to [www.ibm.com](http://www.ibm.com/?utm_medium=Exinfluencer&utm_source=Exinfluencer&utm_content=000026UJ&utm_term=10006555&utm_id=NA-SkillsNetwork-Channel-SkillsNetworkCoursesIBMDeveloperSkillsNetworkPY0101ENSkillsNetwork19487395-2021-01-01):\n"
      ]
    },
    {
      "cell_type": "code",
      "metadata": {
        "id": "NMLttD7CWOCg"
      },
      "source": [
        "url='https://www.ibm.com/'\n",
        "r=requests.get(url)\n"
      ],
      "execution_count": null,
      "outputs": []
    },
    {
      "cell_type": "markdown",
      "metadata": {
        "id": "onPXUogMWOCg"
      },
      "source": [
        "We have the response object <code>r</code>, this has information about the request, like the status of the request. We can view the status code using the attribute <code>status_code</code>.\n"
      ]
    },
    {
      "cell_type": "code",
      "metadata": {
        "id": "ptJ_WYDcWOCg"
      },
      "source": [
        "r.status_code"
      ],
      "execution_count": null,
      "outputs": []
    },
    {
      "cell_type": "markdown",
      "metadata": {
        "id": "r-aERiKDWOCg"
      },
      "source": [
        "You can view the request headers:\n"
      ]
    },
    {
      "cell_type": "code",
      "metadata": {
        "id": "yZnQcvvTWOCg"
      },
      "source": [
        "print(r.request.headers)"
      ],
      "execution_count": null,
      "outputs": []
    },
    {
      "cell_type": "markdown",
      "metadata": {
        "id": "OdLLflJuWOCh"
      },
      "source": [
        "You can view the request body, in the following line, as there is no body for a get request we get a <code>None</code>:\n"
      ]
    },
    {
      "cell_type": "code",
      "metadata": {
        "id": "HEm9F25UWOCh"
      },
      "source": [
        "print(\"request body:\", r.request.body)"
      ],
      "execution_count": null,
      "outputs": []
    },
    {
      "cell_type": "markdown",
      "metadata": {
        "id": "VhmXzQpBWOCh"
      },
      "source": [
        "You can view the <code>HTTP</code> response header using the attribute <code>headers</code>. This returns a python dictionary of <code>HTTP</code> response headers.\n"
      ]
    },
    {
      "cell_type": "code",
      "metadata": {
        "id": "vI_HSIfWWOCh"
      },
      "source": [
        "header=r.headers\n",
        "print(r.headers)"
      ],
      "execution_count": null,
      "outputs": []
    },
    {
      "cell_type": "markdown",
      "metadata": {
        "id": "M68E1EjDWOCh"
      },
      "source": [
        "We can obtain the date the request was sent using the key <code>Date</code>\n"
      ]
    },
    {
      "cell_type": "code",
      "metadata": {
        "id": "jFhhxmeNWOCh"
      },
      "source": [
        "header['date']"
      ],
      "execution_count": null,
      "outputs": []
    },
    {
      "cell_type": "markdown",
      "metadata": {
        "id": "FEuaCmtLWOCh"
      },
      "source": [
        "<code>Content-Type</code> indicates the type of data:\n"
      ]
    },
    {
      "cell_type": "code",
      "metadata": {
        "id": "F9HC1cbLWOCi"
      },
      "source": [
        "header['Content-Type']"
      ],
      "execution_count": null,
      "outputs": []
    },
    {
      "cell_type": "markdown",
      "metadata": {
        "id": "FsZjmmUWWOCi"
      },
      "source": [
        "You can also check the <code>encoding</code>:\n"
      ]
    },
    {
      "cell_type": "code",
      "metadata": {
        "id": "29xmi881WOCi"
      },
      "source": [
        " r.encoding"
      ],
      "execution_count": null,
      "outputs": []
    },
    {
      "cell_type": "markdown",
      "metadata": {
        "id": "LryQdHigWOCi"
      },
      "source": [
        "As the <code>Content-Type</code> is <code>text/html</code> we can use the attribute <code>text</code> to display the <code>HTML</code> in the body. We can review the first 100 characters:\n"
      ]
    },
    {
      "cell_type": "code",
      "metadata": {
        "id": "MRzyozFDWOCi"
      },
      "source": [
        "r.text[0:100]"
      ],
      "execution_count": null,
      "outputs": []
    },
    {
      "cell_type": "markdown",
      "metadata": {
        "id": "XfYCxDbmWOCi"
      },
      "source": [
        "You can load other types of data for non-text requests, like images. Consider the URL of the following image:\n"
      ]
    },
    {
      "cell_type": "code",
      "metadata": {
        "id": "bg3TqKDpWOCi"
      },
      "source": [
        "# Use single quotation marks for defining string\n",
        "url='https://gitlab.com/ibm/skills-network/courses/placeholder101/-/raw/master/labs/module%201/images/IDSNlogo.png'"
      ],
      "execution_count": null,
      "outputs": []
    },
    {
      "cell_type": "markdown",
      "metadata": {
        "id": "V9OqpjEAWOCj"
      },
      "source": [
        "We can make a get request:\n"
      ]
    },
    {
      "cell_type": "code",
      "metadata": {
        "id": "-W723hKJWOCj"
      },
      "source": [
        "r=requests.get(url)"
      ],
      "execution_count": null,
      "outputs": []
    },
    {
      "cell_type": "markdown",
      "metadata": {
        "id": "HrLMOFgRWOCj"
      },
      "source": [
        "We can look at the response header:\n"
      ]
    },
    {
      "cell_type": "code",
      "metadata": {
        "id": "n_hFZMPYWOCj"
      },
      "source": [
        "print(r.headers)"
      ],
      "execution_count": null,
      "outputs": []
    },
    {
      "cell_type": "markdown",
      "metadata": {
        "id": "VPRQNfXTWOCj"
      },
      "source": [
        "We can see the <code>'Content-Type'</code>\n"
      ]
    },
    {
      "cell_type": "code",
      "metadata": {
        "id": "bz2dF2V3WOCj"
      },
      "source": [
        "r.headers['Content-Type']"
      ],
      "execution_count": null,
      "outputs": []
    },
    {
      "cell_type": "markdown",
      "metadata": {
        "id": "JCra4VvWWOCj"
      },
      "source": [
        "An image is a response object that contains the image as a <a href=\"https://docs.python.org/3/glossary.html?utm_medium=Exinfluencer&utm_source=Exinfluencer&utm_content=000026UJ&utm_term=10006555&utm_id=NA-SkillsNetwork-Channel-SkillsNetworkCoursesIBMDeveloperSkillsNetworkPY0101ENSkillsNetwork19487395-2021-01-01#term-bytes-like-object\">bytes-like object</a>. As a result, we must save it using a file object. First, we specify the file path and\n",
        "name\n"
      ]
    },
    {
      "cell_type": "code",
      "metadata": {
        "id": "yK_hAEtCWOCj"
      },
      "source": [
        "path=os.path.join(os.getcwd(),'image.png')\n",
        "path"
      ],
      "execution_count": null,
      "outputs": []
    },
    {
      "cell_type": "markdown",
      "metadata": {
        "id": "U4XFk47-WOCk"
      },
      "source": [
        "We save the file, in order to access the body of the response we use the attribute <code>content</code> then save it using the <code>open</code> function and write <code>method</code>:\n"
      ]
    },
    {
      "cell_type": "code",
      "metadata": {
        "id": "y4qpw5bfWOCk"
      },
      "source": [
        "with open(path,'wb') as f:\n",
        "    f.write(r.content)"
      ],
      "execution_count": null,
      "outputs": []
    },
    {
      "cell_type": "markdown",
      "metadata": {
        "id": "7FajeRbHWOCk"
      },
      "source": [
        "We can view the image:\n"
      ]
    },
    {
      "cell_type": "code",
      "metadata": {
        "id": "6pFkTXz6WOCk"
      },
      "source": [
        "Image.open(path)  "
      ],
      "execution_count": null,
      "outputs": []
    },
    {
      "cell_type": "markdown",
      "metadata": {
        "id": "gCNoRskxWOCk"
      },
      "source": [
        "<h3>Question 1: write <a href=\"https://www.gnu.org/software/wget/?utm_medium=Exinfluencer&utm_source=Exinfluencer&utm_content=000026UJ&utm_term=10006555&utm_id=NA-SkillsNetwork-Channel-SkillsNetworkCoursesIBMDeveloperSkillsNetworkPY0101ENSkillsNetwork19487395-2021-01-01\"><code> wget </code></a></h3>\n"
      ]
    },
    {
      "cell_type": "markdown",
      "metadata": {
        "id": "HbTMa_hJWOCk"
      },
      "source": [
        "In the previous section, we used the <code>wget</code> function to retrieve content from the web server as shown below.  Write the python code to perform the same task. The code should be the same as the one used to download the image, but the file name should be <code>'Example1.txt'</code>.\n"
      ]
    },
    {
      "cell_type": "markdown",
      "metadata": {
        "id": "QjOZNTv2WOCk"
      },
      "source": [
        "<code>!wget -O /resources/data/Example1.txt <https://cf-courses-data.s3.us.cloud-object-storage.appdomain.cloud/IBMDeveloperSkillsNetwork-PY0101EN-SkillsNetwork/labs/Module%205/data/Example1.txt></code>\n"
      ]
    },
    {
      "cell_type": "code",
      "metadata": {
        "id": "4496I0sEWOCl"
      },
      "source": [
        ""
      ],
      "execution_count": null,
      "outputs": []
    },
    {
      "cell_type": "markdown",
      "metadata": {
        "id": "4ebiKpRWWOCl"
      },
      "source": [
        "<details><summary>Click here for the solution</summary>\n",
        "\n",
        "```python\n",
        "url='https://cf-courses-data.s3.us.cloud-object-storage.appdomain.cloud/IBMDeveloperSkillsNetwork-PY0101EN-SkillsNetwork/labs/Module%205/data/Example1.txt'\n",
        "path=os.path.join(os.getcwd(),'example1.txt')\n",
        "r=requests.get(url)\n",
        "with open(path,'wb') as f:\n",
        "    f.write(r.content)\n",
        "\n",
        "```\n",
        "\n",
        "</details>\n"
      ]
    },
    {
      "cell_type": "markdown",
      "metadata": {
        "id": "Vrc0P54QWOCm"
      },
      "source": [
        "<h2 id=\"URL_P\">Get Request with URL Parameters </h2>\n"
      ]
    },
    {
      "cell_type": "markdown",
      "metadata": {
        "id": "cUqj9ljiWOCm"
      },
      "source": [
        "You can use the <b>GET</b> method to modify the results of your query, for example retrieving data from an API. We send a <b>GET</b> request to the  server. Like before we have the <b>Base URL</b>, in the <b>Route</b> we append <code>/get</code>, this indicates we would like to preform a <code>GET</code> request. This is demonstrated in the following table:\n"
      ]
    },
    {
      "cell_type": "markdown",
      "metadata": {
        "id": "9Wtm1aBLWOCm"
      },
      "source": [
        "<div class=\"alert alert-block alert-info\" style=\"margin-top: 20px\">\n",
        "         <img src=\"https://cf-courses-data.s3.us.cloud-object-storage.appdomain.cloud/IBMDeveloperSkillsNetwork-PY0101EN-SkillsNetwork/labs/Module%205/images/base_URL_Route.png\" width=\"400\" align=\"center\">\n",
        "</div>\n"
      ]
    },
    {
      "cell_type": "markdown",
      "metadata": {
        "id": "sdxWbuv7WOCm"
      },
      "source": [
        "The Base URL is for <code>[http://httpbin.org/](http://httpbin.org/?utm_medium=Exinfluencer&utm_source=Exinfluencer&utm_content=000026UJ&utm_term=10006555&utm_id=NA-SkillsNetwork-Channel-SkillsNetworkCoursesIBMDeveloperSkillsNetworkPY0101ENSkillsNetwork19487395-2021-01-01)</code> is a simple HTTP Request & Response Service. The <code>URL</code> in Python is given by:\n"
      ]
    },
    {
      "cell_type": "code",
      "metadata": {
        "id": "53LBqbagWOCm"
      },
      "source": [
        "url_get='http://httpbin.org/get'"
      ],
      "execution_count": null,
      "outputs": []
    },
    {
      "cell_type": "markdown",
      "metadata": {
        "id": "1M92T0FkWOCm"
      },
      "source": [
        "A <a href=\"https://en.wikipedia.org/wiki/Query_string?utm_medium=Exinfluencer&utm_source=Exinfluencer&utm_content=000026UJ&utm_term=10006555&utm_id=NA-SkillsNetwork-Channel-SkillsNetworkCoursesIBMDeveloperSkillsNetworkPY0101ENSkillsNetwork19487395-2021-01-01\">query string</a> is a part of a uniform resource locator (URL), this sends other information to the web server. The start of the query is a <code>?</code>, followed by a series of parameter and value pairs, as shown in the table below. The first parameter name is <code>name</code> and the value is <code>Joseph</code>. The second parameter name is <code>ID</code> and the Value is <code>123</code>. Each pair, parameter, and value is separated by an equals sign, <code>=</code>.\n",
        "The series of pairs is separated by the ampersand <code>&</code>.\n"
      ]
    },
    {
      "cell_type": "markdown",
      "metadata": {
        "id": "IZylQKmMWOCm"
      },
      "source": [
        "<div class=\"alert alert-block alert-info\" style=\"margin-top: 20px\">\n",
        "         <img src=\"https://cf-courses-data.s3.us.cloud-object-storage.appdomain.cloud/IBMDeveloperSkillsNetwork-PY0101EN-SkillsNetwork/labs/Module%205/images/query_string.png\" width=\"500\" align=\"center\">\n",
        "</div>\n"
      ]
    },
    {
      "cell_type": "markdown",
      "metadata": {
        "id": "RbPVPF_sWOCm"
      },
      "source": [
        "To create a Query string, add a dictionary. The keys are the parameter names and the values are the value of the Query string.\n"
      ]
    },
    {
      "cell_type": "code",
      "metadata": {
        "id": "7vY8o9ZFWOCn"
      },
      "source": [
        "payload={\"name\":\"Joseph\",\"ID\":\"123\"}"
      ],
      "execution_count": null,
      "outputs": []
    },
    {
      "cell_type": "markdown",
      "metadata": {
        "id": "2mjK39xbWOCn"
      },
      "source": [
        "Then passing the dictionary <code>payload</code> to the <code>params</code> parameter of the <code> get()</code> function:\n"
      ]
    },
    {
      "cell_type": "code",
      "metadata": {
        "id": "fMm-wkpoWOCn"
      },
      "source": [
        "r=requests.get(url_get,params=payload)"
      ],
      "execution_count": null,
      "outputs": []
    },
    {
      "cell_type": "markdown",
      "metadata": {
        "id": "ND_qiCwbWOCn"
      },
      "source": [
        "We can print out the <code>URL</code> and see the name and values\n"
      ]
    },
    {
      "cell_type": "code",
      "metadata": {
        "id": "pQBxNKwMWOCn"
      },
      "source": [
        "r.url"
      ],
      "execution_count": null,
      "outputs": []
    },
    {
      "cell_type": "markdown",
      "metadata": {
        "id": "XgINvUAGWOCn"
      },
      "source": [
        "There is no request body\n"
      ]
    },
    {
      "cell_type": "code",
      "metadata": {
        "id": "OhbPH4P_WOCn"
      },
      "source": [
        "print(\"request body:\", r.request.body)"
      ],
      "execution_count": null,
      "outputs": []
    },
    {
      "cell_type": "markdown",
      "metadata": {
        "id": "I5d5rnAPWOCn"
      },
      "source": [
        "We can print out the status code\n"
      ]
    },
    {
      "cell_type": "code",
      "metadata": {
        "id": "Xr7IU1XzWOCo"
      },
      "source": [
        "print(r.status_code)"
      ],
      "execution_count": null,
      "outputs": []
    },
    {
      "cell_type": "markdown",
      "metadata": {
        "id": "_6VOx9uWWOCo"
      },
      "source": [
        "We can view the response as text:\n"
      ]
    },
    {
      "cell_type": "code",
      "metadata": {
        "id": "lrm7V3asWOCo"
      },
      "source": [
        "print(r.text)"
      ],
      "execution_count": null,
      "outputs": []
    },
    {
      "cell_type": "markdown",
      "metadata": {
        "id": "U5wvbXrKWOCo"
      },
      "source": [
        "We can look at the <code>'Content-Type'</code>.\n"
      ]
    },
    {
      "cell_type": "code",
      "metadata": {
        "id": "jnk2PTDTWOCo"
      },
      "source": [
        "r.headers['Content-Type']"
      ],
      "execution_count": null,
      "outputs": []
    },
    {
      "cell_type": "markdown",
      "metadata": {
        "id": "_rNfiHHiWOCo"
      },
      "source": [
        "As the content <code>'Content-Type'</code> is in the <code>JSON</code> format we can use the method <code>json()</code>, it returns a Python <code>dict</code>:\n"
      ]
    },
    {
      "cell_type": "code",
      "metadata": {
        "id": "4ctyiY8kWOCo"
      },
      "source": [
        "r.json()"
      ],
      "execution_count": null,
      "outputs": []
    },
    {
      "cell_type": "markdown",
      "metadata": {
        "id": "aHcTP5tvWOCo"
      },
      "source": [
        "The key <code>args</code> has the name and values:\n"
      ]
    },
    {
      "cell_type": "code",
      "metadata": {
        "id": "cGFw-pdLWOCp"
      },
      "source": [
        "r.json()['args']"
      ],
      "execution_count": null,
      "outputs": []
    },
    {
      "cell_type": "markdown",
      "metadata": {
        "id": "q0E7E3iFWOCp"
      },
      "source": [
        "<h2 id=\"POST\">Post Requests  </h2>\n"
      ]
    },
    {
      "cell_type": "markdown",
      "metadata": {
        "id": "E6C6Cqj9WOCp"
      },
      "source": [
        "Like a <code>GET</code> request, a <code>POST</code> is used to send data to a server, but the <code>POST</code> request sends the data in a request body. In order to send the Post Request in Python, in the <code>URL</code> we change the route to <code>POST</code>:\n"
      ]
    },
    {
      "cell_type": "code",
      "metadata": {
        "id": "gwmuCpz5WOCp"
      },
      "source": [
        "url_post='http://httpbin.org/post'"
      ],
      "execution_count": null,
      "outputs": []
    },
    {
      "cell_type": "markdown",
      "metadata": {
        "id": "qI_xoYSnWOCp"
      },
      "source": [
        "This endpoint will expect data as a file or as a form. A form is convenient way to configure an HTTP request to send data to a server.\n"
      ]
    },
    {
      "cell_type": "markdown",
      "metadata": {
        "id": "2o_wyYu9WOCp"
      },
      "source": [
        "To make a <code>POST</code> request we use the <code>post()</code> function, the variable <code>payload</code> is passed to the parameter <code> data </code>:\n"
      ]
    },
    {
      "cell_type": "code",
      "metadata": {
        "id": "2AH5wjf0WOCq"
      },
      "source": [
        "r_post=requests.post(url_post,data=payload)"
      ],
      "execution_count": null,
      "outputs": []
    },
    {
      "cell_type": "markdown",
      "metadata": {
        "id": "Oa4ioOkGWOCq"
      },
      "source": [
        "Comparing the URL from the response object of the <code>GET</code> and <code>POST</code> request we see the <code>POST</code> request has no name or value pairs.\n"
      ]
    },
    {
      "cell_type": "code",
      "metadata": {
        "id": "vfFXH4xyWOCq"
      },
      "source": [
        "print(\"POST request URL:\",r_post.url )\n",
        "print(\"GET request URL:\",r.url)"
      ],
      "execution_count": null,
      "outputs": []
    },
    {
      "cell_type": "markdown",
      "metadata": {
        "id": "0BoB6ciFWOCq"
      },
      "source": [
        "We can compare the <code>POST</code> and <code>GET</code> request body, we see only the <code>POST</code> request has a body:\n"
      ]
    },
    {
      "cell_type": "code",
      "metadata": {
        "id": "PQu-0VVKWOCq"
      },
      "source": [
        "print(\"POST request body:\",r_post.request.body)\n",
        "print(\"GET request body:\",r.request.body)"
      ],
      "execution_count": null,
      "outputs": []
    },
    {
      "cell_type": "markdown",
      "metadata": {
        "id": "vn2N-b6OWOCq"
      },
      "source": [
        "We can view the form as well:\n"
      ]
    },
    {
      "cell_type": "code",
      "metadata": {
        "id": "hvV351wfWOCq"
      },
      "source": [
        "r_post.json()['form']"
      ],
      "execution_count": null,
      "outputs": []
    },
    {
      "cell_type": "markdown",
      "metadata": {
        "id": "PWFy0-6JWOCq"
      },
      "source": [
        "There is a lot more you can do. Check out <a href=\"https://requests.readthedocs.io/en/master/?utm_medium=Exinfluencer&utm_source=Exinfluencer&utm_content=000026UJ&utm_term=10006555&utm_id=NA-SkillsNetwork-Channel-SkillsNetworkCoursesIBMDeveloperSkillsNetworkPY0101ENSkillsNetwork19487395-2021-01-01\">Requests </a> for more.\n"
      ]
    },
    {
      "cell_type": "markdown",
      "metadata": {
        "id": "o5TvcDRvWOCr"
      },
      "source": [
        "<hr>\n"
      ]
    },
    {
      "cell_type": "markdown",
      "metadata": {
        "id": "dKlEsj37WOCr"
      },
      "source": [
        "## Authors\n",
        "\n",
        "<p><a href=\"https://www.linkedin.com/in/joseph-s-50398b136/?utm_medium=Exinfluencer&utm_source=Exinfluencer&utm_content=000026UJ&utm_term=10006555&utm_id=NA-SkillsNetwork-Channel-SkillsNetworkCoursesIBMDeveloperSkillsNetworkPY0101ENSkillsNetwork19487395-2021-01-01\" target=\"_blank\">Joseph Santarcangelo</a> <br>A Data Scientist at IBM, and holds a PhD in Electrical Engineering. His research focused on using Machine Learning, Signal Processing, and Computer Vision to determine how videos impact human cognition. Joseph has been working for IBM since he completed his PhD.</p>\n"
      ]
    },
    {
      "cell_type": "markdown",
      "metadata": {
        "id": "6bwimE7BWOCr"
      },
      "source": [
        "### Other Contributors\n",
        "\n",
        "<a href=\"https://www.linkedin.com/in/jiahui-mavis-zhou-a4537814a?utm_medium=Exinfluencer&utm_source=Exinfluencer&utm_content=000026UJ&utm_term=10006555&utm_id=NA-SkillsNetwork-Channel-SkillsNetworkCoursesIBMDeveloperSkillsNetworkPY0101ENSkillsNetwork19487395-2021-01-01\">Mavis Zhou</a>\n"
      ]
    },
    {
      "cell_type": "markdown",
      "metadata": {
        "id": "lmqUEJoaWOCr"
      },
      "source": [
        "## Change Log\n",
        "\n",
        "| Date (YYYY-MM-DD) | Version | Changed By | Change Description           |\n",
        "| ----------------- | ------- | ---------- | ---------------------------- |\n",
        "| 2021-12-20        | 2.1     | Malika     | Updated the links            |\n",
        "| 2020-09-02        | 2.0     | Simran     | Template updates to the file |\n",
        "|                   |         |            |                              |\n",
        "|                   |         |            |                              |\n",
        "\n",
        "## <h3 align=\"center\"> © IBM Corporation 2020. All rights reserved. <h3/>\n"
      ]
    }
  ]
}